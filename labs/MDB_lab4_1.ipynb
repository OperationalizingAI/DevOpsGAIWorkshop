{
  "nbformat": 4,
  "nbformat_minor": 0,
  "metadata": {
    "colab": {
      "provenance": []
    },
    "kernelspec": {
      "name": "python3",
      "display_name": "Python 3"
    },
    "language_info": {
      "name": "python"
    }
  },
  "cells": [
    {
      "cell_type": "markdown",
      "source": [
        "# Load Uber and Lyft 10K PDF files into a vector store\n",
        "## Using LLama Index\n"
      ],
      "metadata": {
        "id": "gdA3nw5lIkXf"
      }
    },
    {
      "cell_type": "markdown",
      "source": [
        ">For Googla Colab Only\n",
        "\n",
        ">>git clone https://github.com/OperationalizingAI/Hackathon-2-22-24.gi"
      ],
      "metadata": {
        "id": "FPCoRhb3NMT6"
      }
    },
    {
      "cell_type": "code",
      "execution_count": null,
      "metadata": {
        "id": "sC3_s3N8Fo0F"
      },
      "outputs": [],
      "source": [
        "%pip install llama_index llama-index-vector-stores-mongodb\n"
      ]
    },
    {
      "cell_type": "code",
      "source": [
        "import pymongo\n",
        "from llama_index.vector_stores.mongodb import MongoDBAtlasVectorSearch\n",
        "from llama_index.core import VectorStoreIndex\n",
        "from llama_index.core import StorageContext\n",
        "from llama_index.core import SimpleDirectoryReader"
      ],
      "metadata": {
        "id": "KjCZZVfsLUQi"
      },
      "execution_count": null,
      "outputs": []
    },
    {
      "cell_type": "markdown",
      "source": [
        "### Google Only Code"
      ],
      "metadata": {
        "id": "RdHGzW3D4oW2"
      }
    },
    {
      "cell_type": "code",
      "source": [
        "!pip install google-cloud-secret-manager\n",
        "!pip install --upgrade google-auth\n",
        "\n",
        "import os\n",
        "\n",
        "from google.cloud import secretmanager\n",
        "from google.colab import auth\n",
        "from google.colab import drive"
      ],
      "metadata": {
        "id": "pozEcsdxIlxd"
      },
      "execution_count": null,
      "outputs": []
    },
    {
      "cell_type": "code",
      "source": [
        "def load_secrets(secrets_name, project_id):\n",
        "  # Build a client\n",
        "  auth.authenticate_user()\n",
        "  client = secretmanager.SecretManagerServiceClient()\n",
        "  secret_name = secrets_name\n",
        "  # Create path to latest secret\n",
        "  resource_name = f\"projects/{project_id}/secrets/{secret_name}/versions/latest\"\n",
        "  # Get your secret :\n",
        "  response = client.access_secret_version(request={\"name\": resource_name})\n",
        "  secret_string = response.payload.data.decode('UTF-8')\n",
        "  return secret_string"
      ],
      "metadata": {
        "id": "6Z1hF5x_IqlI"
      },
      "execution_count": null,
      "outputs": []
    },
    {
      "cell_type": "code",
      "source": [
        "project_id = 'botchagalupep1'\n",
        "openai_api_key = load_secrets(\"openai_api_key\",project_id)\n",
        "os.environ['OPENAI_API_KEY'] = openai_api_key\n",
        "#MONGODB_ATLAS_CLUSTER_URI = load_secrets(\"mdb_uri\",project_id)\n",
        "MONGODB_ATLAS_CLUSTER_URI = load_secrets(\"MDB_CLUSTER0_URI\",project_id)\n",
        "langsmith_api_key = load_secrets(\"langsmith_api_key\",project_id)\n",
        "#print(langsmith_api_key )\n",
        "#print(MONGODB_ATLAS_CLUSTER_URI)"
      ],
      "metadata": {
        "id": "AxNeNGSqIywX"
      },
      "execution_count": null,
      "outputs": []
    },
    {
      "cell_type": "code",
      "source": [
        "!mkdir -p 'data/10k/'\n",
        "!wget 'https://raw.githubusercontent.com/run-llama/llama_index/main/docs/examples/data/10k/uber_2021.pdf' -O 'data/10k/uber_2021.pdf'"
      ],
      "metadata": {
        "id": "paKRZ16SMtvA"
      },
      "execution_count": null,
      "outputs": []
    },
    {
      "cell_type": "code",
      "source": [
        "# Our variables\n",
        "\n",
        "DB_NAME = 'rag1'\n",
        "COLLECTION_NAME = '10k'\n",
        "INDEX_NAME = 'idx_embedding'"
      ],
      "metadata": {
        "id": "6qlYB5MXWPAn"
      },
      "execution_count": null,
      "outputs": []
    },
    {
      "cell_type": "code",
      "source": [
        "mongodb_client = pymongo.MongoClient(MONGODB_ATLAS_CLUSTER_URI)\n",
        "\n",
        "print (\"Atlas client initialized\")"
      ],
      "metadata": {
        "colab": {
          "base_uri": "https://localhost:8080/"
        },
        "id": "11tJ-hjWhIqW",
        "outputId": "9256f9e6-b43b-4b3b-a510-8a87f407beb7"
      },
      "execution_count": null,
      "outputs": [
        {
          "output_type": "stream",
          "name": "stdout",
          "text": [
            "Atlas client initialized\n"
          ]
        }
      ]
    },
    {
      "cell_type": "code",
      "source": [
        "database = mongodb_client[DB_NAME]\n",
        "collection = database [COLLECTION_NAME]\n",
        "\n",
        "doc_count = collection.count_documents (filter = {})\n",
        "print (f\"Document count before delete : {doc_count:,}\")\n",
        "\n",
        "result = collection.delete_many(filter= {})\n",
        "print (f\"Deleted docs : {result.deleted_count}\")"
      ],
      "metadata": {
        "colab": {
          "base_uri": "https://localhost:8080/"
        },
        "id": "rAiGr9avCe26",
        "outputId": "4de40b52-6c70-477e-e4cb-b58b9c18ba2b"
      },
      "execution_count": null,
      "outputs": [
        {
          "output_type": "stream",
          "name": "stdout",
          "text": [
            "Document count before delete : 0\n",
            "Deleted docs : 0\n"
          ]
        }
      ]
    },
    {
      "cell_type": "code",
      "source": [
        "%%time\n",
        "\n",
        "data_dir = 'data/10k/'\n",
        "\n",
        "## This reads one doc\n",
        "# docs = SimpleDirectoryReader(\n",
        "#     input_files=[\"./data/10k/uber_2021.pdf\"]\n",
        "# ).load_data()\n",
        "\n",
        "## here we read entire directory content\n",
        "docs = SimpleDirectoryReader(\n",
        "        input_dir=data_dir\n",
        ").load_data()\n",
        "\n",
        "print (f\"Loaded {len(docs)} chunks from '{data_dir}'\")"
      ],
      "metadata": {
        "colab": {
          "base_uri": "https://localhost:8080/"
        },
        "id": "t3xdDqvNOU7T",
        "outputId": "38a85bef-f72e-4575-846c-a862856c0fd9"
      },
      "execution_count": null,
      "outputs": [
        {
          "output_type": "stream",
          "name": "stdout",
          "text": [
            "Loaded 307 chunks from 'data/10k/'\n",
            "CPU times: user 14.5 s, sys: 72.4 ms, total: 14.6 s\n",
            "Wall time: 15.5 s\n"
          ]
        }
      ]
    },
    {
      "cell_type": "code",
      "source": [
        "vector_store = MongoDBAtlasVectorSearch(mongodb_client = mongodb_client,\n",
        "                                 db_name = DB_NAME, collection_name = COLLECTION_NAME,\n",
        "                                 index_name  = INDEX_NAME,\n",
        "                                 ## the following columns are set to default values\n",
        "                                 # embedding_key = 'embedding', text_key = 'text', metadata_= 'metadata',\n",
        "                                 )\n",
        "storage_context = StorageContext.from_defaults(vector_store=vector_store)"
      ],
      "metadata": {
        "id": "UQzH6eEeTypa"
      },
      "execution_count": null,
      "outputs": []
    },
    {
      "cell_type": "code",
      "source": [
        "index = VectorStoreIndex.from_documents(\n",
        "    docs, storage_context=storage_context\n",
        ")"
      ],
      "metadata": {
        "id": "eE8kU0FZloo4"
      },
      "execution_count": null,
      "outputs": []
    },
    {
      "cell_type": "code",
      "source": [
        "from IPython.display import Markdown\n",
        "from pprint import pprint"
      ],
      "metadata": {
        "id": "ld3SHQ10RN0Q"
      },
      "execution_count": null,
      "outputs": []
    },
    {
      "cell_type": "code",
      "source": [
        "response = index.as_query_engine().query(\"What was Uber's revenue?\")\n",
        "print (response)\n",
        "print()\n",
        "# display(Markdown(f\"<b>{response}</b>\"))\n",
        "pprint(response, indent=4)"
      ],
      "metadata": {
        "id": "sKs2Mo9tXk2-"
      },
      "execution_count": null,
      "outputs": []
    },
    {
      "cell_type": "markdown",
      "source": [],
      "metadata": {
        "id": "jZkzSnSiXkj-"
      }
    },
    {
      "cell_type": "code",
      "source": [
        "%%time\n",
        "\n",
        "response = index.as_query_engine().query(\"How much money did Lyft make in 2020?\")\n",
        "print (response)\n",
        "print()\n",
        "pprint(response, indent=4)"
      ],
      "metadata": {
        "id": "FLlQcNIbXxNg"
      },
      "execution_count": null,
      "outputs": []
    },
    {
      "cell_type": "code",
      "source": [
        "%%time\n",
        "\n",
        "## The answer to this question doesn't exist in the Lyft_10k filing!\n",
        "## Let's see what we get back\n",
        "response = index.as_query_engine().query(\"What was Lyft's revenue for 2018?\")\n",
        "print (response)\n",
        "print()\n",
        "pprint(response, indent=4)"
      ],
      "metadata": {
        "id": "nT6NqGNfX7AW"
      },
      "execution_count": null,
      "outputs": []
    },
    {
      "cell_type": "code",
      "source": [
        "%%time\n",
        "\n",
        "response = index.as_query_engine().query(\"When did Uber go IPO?\")\n",
        "print (response)\n",
        "print()\n",
        "pprint(response, indent=4)"
      ],
      "metadata": {
        "id": "pO2qVWUUYBnn"
      },
      "execution_count": null,
      "outputs": []
    },
    {
      "cell_type": "code",
      "source": [
        "%%time\n",
        "\n",
        "response = index.as_query_engine().query(\"What were the Stock-based compensation for Lyft?\")\n",
        "print (response)\n",
        "print()\n",
        "pprint(response, indent=4)"
      ],
      "metadata": {
        "id": "YK4Pjjb_YIkM"
      },
      "execution_count": null,
      "outputs": []
    }
  ]
}
{
  "cells": [
    {
      "cell_type": "markdown",
      "metadata": {
        "id": "uPZUZX3DisTx"
      },
      "source": [
        "<center>\n",
        "    <p style=\"text-align:center\">\n",
        "        <img alt=\"phoenix logo\" src=\"https://storage.googleapis.com/arize-phoenix-assets/assets/phoenix-logo-light.svg\" width=\"200\"/>\n",
        "        <br>\n",
        "        <a href=\"https://docs.arize.com/phoenix/\">Docs</a>\n",
        "        |\n",
        "        <a href=\"https://github.com/Arize-ai/phoenix\">GitHub</a>\n",
        "        |\n",
        "        <a href=\"https://join.slack.com/t/arize-ai/shared_invite/zt-1px8dcmlf-fmThhDFD_V_48oU7ALan4Q\">Community</a>\n",
        "    </p>\n",
        "</center>\n",
        "<h1 align=\"center\">Tracing and Evaluating a LangChain Application</h1>\n",
        "\n",
        "LangChain provides high-level APIs that enable users to build powerful applications in a few lines of code. However, it can be challenging to understand what is going on under the hood and to pinpoint the cause of issues. Phoenix makes your LLM applications *observable* by visualizing the underlying structure of each call to your query engine and surfacing problematic \"spans\" of execution based on latency, token count, or other evaluation metrics.\n",
        "\n",
        "In this tutorial, you will:\n",
        "- Build a simple question and answer app using LangChain that uses retrieval-augmented generation to answer questions over the Arize documentation,\n",
        "- Record trace data in OpenInference format,\n",
        "- Inspect the traces and spans of your application to identify sources of latency and cost,\n",
        "- Export your trace data as a pandas dataframe and run an LLM-assisted evaluation to measure the precision@k of your retrieval step.\n",
        "\n",
        "ℹ️ This notebook requires an OpenAI API key."
      ]
    },
    {
      "cell_type": "markdown",
      "metadata": {
        "id": "8qqUzqwhisTz"
      },
      "source": [
        "## 1. Install Dependencies and Import Libraries\n",
        "\n",
        "Install Phoenix, LangChain, and OpenAI."
      ]
    },
    {
      "cell_type": "code",
      "execution_count": null,
      "metadata": {
        "id": "NpfrZ7Z5isTz"
      },
      "outputs": [],
      "source": [
        "!pip install \"langchain>=0.1.0\" \"openai>=1\" arize-phoenix tiktoken nest-asyncio"
      ]
    },
    {
      "cell_type": "markdown",
      "metadata": {
        "id": "Zxh0LmZTisTz"
      },
      "source": [
        "Import libraries."
      ]
    },
    {
      "cell_type": "code",
      "execution_count": 4,
      "metadata": {
        "id": "ZrVLsUq0isT0"
      },
      "outputs": [],
      "source": [
        "import json\n",
        "import os\n",
        "from getpass import getpass\n",
        "from urllib.request import urlopen\n",
        "\n",
        "import nest_asyncio\n",
        "import numpy as np\n",
        "import pandas as pd\n",
        "import phoenix as px\n",
        "from langchain.chains import RetrievalQA\n",
        "from langchain.chat_models import ChatOpenAI\n",
        "from langchain.embeddings import OpenAIEmbeddings\n",
        "from langchain.retrievers import KNNRetriever\n",
        "from phoenix.experimental.evals import (\n",
        "    HallucinationEvaluator,\n",
        "    OpenAIModel,\n",
        "    QAEvaluator,\n",
        "    RelevanceEvaluator,\n",
        "    run_evals,\n",
        ")\n",
        "from phoenix.session.evaluation import get_qa_with_reference, get_retrieved_documents\n",
        "from phoenix.trace import DocumentEvaluations, SpanEvaluations\n",
        "from phoenix.trace.langchain import LangChainInstrumentor\n",
        "from tqdm import tqdm\n",
        "\n",
        "nest_asyncio.apply()  # needed for concurrent evals in notebook environments"
      ]
    },
    {
      "cell_type": "markdown",
      "metadata": {
        "id": "4EEOAMwjisT0"
      },
      "source": [
        "## 2. Launch Phoenix\n",
        "\n",
        "You can run Phoenix in the background to collect trace data emitted by any LangChain application that has been instrumented with the `OpenInferenceTracer`.\n",
        "\n",
        "Launch Phoenix and follow the instructions in the cell output to open the Phoenix UI (the UI should be empty because we have yet to run a LangChain application)."
      ]
    },
    {
      "cell_type": "code",
      "execution_count": null,
      "metadata": {
        "id": "qRvnRjSrisT0"
      },
      "outputs": [],
      "source": [
        "session = px.launch_app()"
      ]
    },
    {
      "cell_type": "markdown",
      "metadata": {
        "id": "v8ssCkMHisT0"
      },
      "source": [
        "## 3. Configure Your OpenAI API Key\n",
        "\n",
        "Set your OpenAI API key if it is not already set as an environment variable."
      ]
    },
    {
      "cell_type": "code",
      "execution_count": null,
      "metadata": {
        "id": "VoFhBfiLisT0"
      },
      "outputs": [],
      "source": [
        "if os.environ.get(\"OPENAI_API_KEY\") is None:\n",
        "    #openai_api_key = getpass(\"🔑 Enter your OpenAI API key: \")\n",
        "    os.environ[\"OPENAI_API_KEY\"] = \"\""
      ]
    },
    {
      "cell_type": "markdown",
      "source": [
        "## If using Google Secrets Manager"
      ],
      "metadata": {
        "id": "4e_YDosrapjg"
      }
    },
    {
      "cell_type": "code",
      "source": [
        "!pip install google-cloud-secret-manager\n",
        "!pip install --upgrade google-auth\n",
        "\n",
        "import os\n",
        "\n",
        "from google.cloud import secretmanager\n",
        "from google.colab import auth\n",
        "from google.colab import drive"
      ],
      "metadata": {
        "id": "pozEcsdxIlxd"
      },
      "execution_count": null,
      "outputs": []
    },
    {
      "cell_type": "code",
      "source": [
        "def load_secrets(secrets_name, project_id):\n",
        "  # Build a client\n",
        "  auth.authenticate_user()\n",
        "  client = secretmanager.SecretManagerServiceClient()\n",
        "  secret_name = secrets_name\n",
        "  # Create path to latest secret\n",
        "  resource_name = f\"projects/{project_id}/secrets/{secret_name}/versions/latest\"\n",
        "  # Get your secret :\n",
        "  response = client.access_secret_version(request={\"name\": resource_name})\n",
        "  secret_string = response.payload.data.decode('UTF-8')\n",
        "  return secret_string"
      ],
      "metadata": {
        "id": "HTZPgULXb_uj"
      },
      "execution_count": 7,
      "outputs": []
    },
    {
      "cell_type": "code",
      "source": [
        "project_id = 'botchagalupep1'\n",
        "openai_api_key = load_secrets(\"openai_api_key\",project_id)\n",
        "os.environ['OPENAI_API_KEY'] = openai_api_key\n",
        "#MONGODB_ATLAS_CLUSTER_URI = load_secrets(\"mdb_uri\",project_id)\n",
        "MONGODB_ATLAS_CLUSTER_URI = load_secrets(\"MDB_CLUSTER0_URI\",project_id)\n",
        "langsmith_api_key = load_secrets(\"langsmith_api_key\",project_id)\n",
        "#print(langsmith_api_key )\n",
        "#print(MONGODB_ATLAS_CLUSTER_URI)"
      ],
      "metadata": {
        "id": "AxNeNGSqIywX"
      },
      "execution_count": 8,
      "outputs": []
    },
    {
      "cell_type": "markdown",
      "source": [],
      "metadata": {
        "id": "affo2k_dZ4kD"
      }
    },
    {
      "cell_type": "markdown",
      "metadata": {
        "id": "7iEF_OY1isT0"
      },
      "source": [
        "### 4. Build Your LangChain Application\n",
        "\n",
        "This example uses a `RetrievalQA` chain over a pre-built index of the Arize documentation, but you can use whatever LangChain application you like.\n",
        "\n",
        "Download your pre-built index from cloud storage and instantiate your storage context."
      ]
    },
    {
      "cell_type": "code",
      "execution_count": null,
      "metadata": {
        "id": "Rv69YEHZisT0"
      },
      "outputs": [],
      "source": [
        "embeddings = OpenAIEmbeddings(model=\"text-embedding-ada-002\")\n",
        "df = pd.read_parquet(\n",
        "    \"http://storage.googleapis.com/arize-phoenix-assets/datasets/\"\n",
        "    \"unstructured/llm/context-retrieval/langchain-pinecone/database.parquet\"\n",
        ")\n",
        "knn_retriever = KNNRetriever(\n",
        "    index=np.stack(df[\"text_vector\"]),\n",
        "    texts=df[\"text\"].tolist(),\n",
        "    embeddings=OpenAIEmbeddings(),\n",
        ")\n",
        "chain_type = \"stuff\"  # stuff, refine, map_reduce, and map_rerank\n",
        "chat_model_name = \"gpt-3.5-turbo\"\n",
        "llm = ChatOpenAI(model_name=chat_model_name)\n",
        "chain = RetrievalQA.from_chain_type(\n",
        "    llm=llm,\n",
        "    chain_type=chain_type,\n",
        "    retriever=knn_retriever,\n",
        "    metadata={\"application_type\": \"question_answering\"},\n",
        ")"
      ]
    },
    {
      "cell_type": "code",
      "source": [
        "print(df)"
      ],
      "metadata": {
        "id": "nv_GtUaYkNjx",
        "outputId": "032bd0be-67e0-4f98-f11e-3f8e382ff2c4",
        "colab": {
          "base_uri": "https://localhost:8080/"
        }
      },
      "execution_count": 10,
      "outputs": [
        {
          "output_type": "stream",
          "name": "stdout",
          "text": [
            "                                                   text  \\\n",
            "0     \\nAccess tutorials of what's possible with Ari...   \n",
            "1     \\n{% hint style=\"info\" %}\\nYour model type det...   \n",
            "2     \\nExamples for logging explainability metrics....   \n",
            "3     \\n| Google Cloud Services | Link   |\\n| ------...   \n",
            "4     \\n| Sending 10 Million Inferences to Arize in ...   \n",
            "...                                                 ...   \n",
            "1081  \\nContact us at `support@arize.com` to discuss...   \n",
            "1082  \\nThe installation requires a release's TAR fi...   \n",
            "1083  \\nThe Arize team can help size the cluster bas...   \n",
            "1084  \\nTo get started quickly, you can use the scri...   \n",
            "1085  \\nAfter deployment, teams should confirm:\\n\\n*...   \n",
            "\n",
            "                                            text_vector  \n",
            "0     [-0.0036313518733896957, 0.0026182831234325553...  \n",
            "1     [-0.006279695251247202, -0.0005314257337369415...  \n",
            "2     [-0.007306394403318994, 0.0007199545863166625,...  \n",
            "3     [0.002060703379662884, -0.0037287262540240764,...  \n",
            "4     [-0.008325811390756237, -0.008001045242455413,...  \n",
            "...                                                 ...  \n",
            "1081  [0.01593316514702935, -0.0024252962047531914, ...  \n",
            "1082  [-0.0009749303156775049, -0.01393693439926567,...  \n",
            "1083  [0.012797655540632846, -0.005487701856846996, ...  \n",
            "1084  [0.008342131870142003, -0.0008487129130762056,...  \n",
            "1085  [0.013410313636859711, -0.02698383597406778, 0...  \n",
            "\n",
            "[1086 rows x 2 columns]\n"
          ]
        }
      ]
    },
    {
      "cell_type": "markdown",
      "metadata": {
        "id": "72HTa2pNisT1"
      },
      "source": [
        "Instrument LangChain"
      ]
    },
    {
      "cell_type": "code",
      "execution_count": 11,
      "metadata": {
        "id": "Uck396xGisT1"
      },
      "outputs": [],
      "source": [
        "LangChainInstrumentor().instrument()"
      ]
    },
    {
      "cell_type": "markdown",
      "metadata": {
        "id": "gA-FtCTwisT1"
      },
      "source": [
        "## 5. Run Your Query Engine and View Your Traces in Phoenix\n",
        "\n",
        "Download a sample of queries commonly asked of the Arize documentation."
      ]
    },
    {
      "cell_type": "code",
      "execution_count": null,
      "metadata": {
        "id": "u4_vehiSisT1"
      },
      "outputs": [],
      "source": [
        "url = \"http://storage.googleapis.com/arize-phoenix-assets/datasets/unstructured/llm/context-retrieval/arize_docs_queries.jsonl\"\n",
        "queries = []\n",
        "with urlopen(url) as response:\n",
        "    for line in response:\n",
        "        line = line.decode(\"utf-8\").strip()\n",
        "        data = json.loads(line)\n",
        "        queries.append(data[\"query\"])\n",
        "queries[:10]"
      ]
    },
    {
      "cell_type": "markdown",
      "metadata": {
        "id": "DO0LPSOSisT1"
      },
      "source": [
        "Run a few queries."
      ]
    },
    {
      "cell_type": "code",
      "execution_count": 13,
      "metadata": {
        "id": "1jDFavmFisT1",
        "outputId": "62b907ab-9a77-4244-b452-0e000cc910b9",
        "colab": {
          "base_uri": "https://localhost:8080/"
        }
      },
      "outputs": [
        {
          "output_type": "stream",
          "name": "stderr",
          "text": [
            "\r  0%|          | 0/10 [00:00<?, ?it/s]/usr/local/lib/python3.10/dist-packages/langchain_core/_api/deprecation.py:117: LangChainDeprecationWarning: The function `run` was deprecated in LangChain 0.1.0 and will be removed in 0.2.0. Use invoke instead.\n",
            "  warn_deprecated(\n",
            "100%|██████████| 10/10 [00:20<00:00,  2.09s/it]\n"
          ]
        }
      ],
      "source": [
        "for query in tqdm(queries[:10]):\n",
        "    chain.run(query)"
      ]
    },
    {
      "cell_type": "markdown",
      "metadata": {
        "id": "WlyjozaDisT1"
      },
      "source": [
        "Check the Phoenix UI as your queries run. Your traces should appear in real time."
      ]
    },
    {
      "cell_type": "markdown",
      "metadata": {
        "id": "f0gST-rjisT1"
      },
      "source": [
        "## 6. Export and Evaluate Your Trace Data\n",
        "\n",
        "You can export your trace data as a pandas dataframe for further analysis and evaluation.\n",
        "\n",
        "In this case, we will export our `retriever` spans into two separate dataframes:\n",
        "- `queries_df`, in which the retrieved documents for each query are concatenated into a single column,\n",
        "- `retrieved_documents_df`, in which each retrieved document is \"exploded\" into its own row to enable the evaluation of each query-document pair in isolation.\n",
        "\n",
        "This will enable us to compute multiple kinds of evaluations, including:\n",
        "- relevance: Are the retrieved documents grounded in the response?\n",
        "- Q&A correctness: Are your application's responses grounded in the retrieved context?\n",
        "- hallucinations: Is your application making up false information?"
      ]
    },
    {
      "cell_type": "code",
      "execution_count": 14,
      "metadata": {
        "id": "qyNMaw28isT1"
      },
      "outputs": [],
      "source": [
        "queries_df = get_qa_with_reference(px.Client())\n",
        "retrieved_documents_df = get_retrieved_documents(px.Client())"
      ]
    },
    {
      "cell_type": "markdown",
      "metadata": {
        "id": "qle0SQ5hisT1"
      },
      "source": [
        "Next, define your evaluation model and your evaluators.\n",
        "\n",
        "Evaluators are built on top of language models and prompt the LLM to assess the quality of responses, the relevance of retrieved documents, etc., and provide a quality signal even in the absence of human-labeled data. Pick an evaluator type and instantiate it with the language model you want to use to perform evaluations using our battle-tested evaluation templates."
      ]
    },
    {
      "cell_type": "code",
      "execution_count": 16,
      "metadata": {
        "id": "nceDCkKIisT1",
        "outputId": "0739053c-8163-4d0b-ffe4-63fca96bff10",
        "colab": {
          "base_uri": "https://localhost:8080/",
          "height": 99,
          "referenced_widgets": [
            "d1ec1e516e34438bac217e8f44371c71",
            "2e977e0bbf4b402bbcd4c22a2f232791",
            "d9496763ce21400b9ab68a5986424ab0",
            "828b56b2b1484baf84240f32f0bd8608",
            "529e01652ff546b7a11b5382dc1b6429",
            "43d77e54ef954fe4a77164ae659c362c",
            "4921fe86695947d7ae48ce998fb8f402",
            "8a965ea9465b432a832ae77cd6a3b1fc",
            "ebbc80e16a3d42ff8e0ed6b2fdaebea3",
            "efeaf808216943ac81cdccf2e55a79ee",
            "795752f5db264cb59d75e304c9319ff1",
            "0ca043a5ae9a4f168008f50202546e73",
            "2ad9cf5edc9f432e81149a9efefd1007",
            "80571a5239344dc2b29f61b4ccf70b42",
            "385a143f99f44ef3970ac09a20807950",
            "ece75a9a196d46c8a6835271b988bafc",
            "e04a9ecec1b04ea9afd18511a18c42d6",
            "9fdaec62c13341b9b615e855d20da801",
            "26a28c9db561433889b4dab643de4bf5",
            "175fd72de54a4f6e82547dc8063d3285",
            "eebcdb2211b24c5c9d01ce31a3301979",
            "734b403bcdd343cd95d4a0e3e297b8e6"
          ]
        }
      },
      "outputs": [
        {
          "output_type": "stream",
          "name": "stdout",
          "text": [
            "The `model_name` field is deprecated. Use `model` instead.                 This will be removed in a future release.\n"
          ]
        },
        {
          "output_type": "display_data",
          "data": {
            "text/plain": [
              "run_evals |          | 0/20 (0.0%) | ⏳ 00:00<? | ?it/s"
            ],
            "application/vnd.jupyter.widget-view+json": {
              "version_major": 2,
              "version_minor": 0,
              "model_id": "d1ec1e516e34438bac217e8f44371c71"
            }
          },
          "metadata": {}
        },
        {
          "output_type": "display_data",
          "data": {
            "text/plain": [
              "run_evals |          | 0/40 (0.0%) | ⏳ 00:00<? | ?it/s"
            ],
            "application/vnd.jupyter.widget-view+json": {
              "version_major": 2,
              "version_minor": 0,
              "model_id": "0ca043a5ae9a4f168008f50202546e73"
            }
          },
          "metadata": {}
        }
      ],
      "source": [
        "eval_model = OpenAIModel(\n",
        "    model_name=\"gpt-4-turbo-preview\",\n",
        ")\n",
        "hallucination_evaluator = HallucinationEvaluator(eval_model)\n",
        "qa_correctness_evaluator = QAEvaluator(eval_model)\n",
        "relevance_evaluator = RelevanceEvaluator(eval_model)\n",
        "\n",
        "hallucination_eval_df, qa_correctness_eval_df = run_evals(\n",
        "    dataframe=queries_df,\n",
        "    evaluators=[hallucination_evaluator, qa_correctness_evaluator],\n",
        "    provide_explanation=True,\n",
        ")\n",
        "relevance_eval_df = run_evals(\n",
        "    dataframe=retrieved_documents_df,\n",
        "    evaluators=[relevance_evaluator],\n",
        "    provide_explanation=True,\n",
        ")[0]\n",
        "\n",
        "px.Client().log_evaluations(\n",
        "    SpanEvaluations(eval_name=\"Hallucination\", dataframe=hallucination_eval_df),\n",
        "    SpanEvaluations(eval_name=\"QA Correctness\", dataframe=qa_correctness_eval_df),\n",
        "    DocumentEvaluations(eval_name=\"Relevance\", dataframe=relevance_eval_df),\n",
        ")"
      ]
    },
    {
      "cell_type": "markdown",
      "metadata": {
        "id": "9GIGhxPrisT1"
      },
      "source": [
        "Your evaluations should now appear as annotations on the appropriate spans in Phoenix."
      ]
    },
    {
      "cell_type": "code",
      "execution_count": 17,
      "metadata": {
        "id": "8F5QlpVtisT1",
        "outputId": "80bd6d04-372f-421c-8c18-94d81c29ce59",
        "colab": {
          "base_uri": "https://localhost:8080/",
          "height": 35
        }
      },
      "outputs": [
        {
          "output_type": "stream",
          "name": "stdout",
          "text": [
            "🚀 Open the Phoenix UI if you haven't already: https://b1mkxlyg4mc4-496ff2e9c6d22116-6006-colab.googleusercontent.com/\n"
          ]
        }
      ],
      "source": [
        "print(f\"🚀 Open the Phoenix UI if you haven't already: {session.url}\")"
      ]
    },
    {
      "cell_type": "markdown",
      "metadata": {
        "id": "RmGTf-UHisT1"
      },
      "source": [
        "## 7. Final Thoughts\n",
        "\n",
        "LLM Traces and the accompanying OpenInference Tracing specification is designed to be a category of telemetry data that is used to understand the execution of LLMs and the surrounding application context such as retrieval from vector stores and the usage of external tools such as search engines or APIs. It lets you understand the inner workings of the individual steps your application takes wile also giving you visibility into how your system is running and performing as a whole.\n",
        "\n",
        "LLM Evals are designed for simple, fast, and accurate LLM-based evaluations. They let you quickly benchmark the performance of your LLM application and help you identify the problematic spans of execution.\n",
        "\n",
        "For more details on Phoenix, LLM Tracing, and LLM Evals, checkout our [documentation](https://docs.arize.com/phoenix/)."
      ]
    }
  ],
  "metadata": {
    "language_info": {
      "name": "python"
    },
    "colab": {
      "provenance": []
    },
    "kernelspec": {
      "name": "python3",
      "display_name": "Python 3"
    },
    "widgets": {
      "application/vnd.jupyter.widget-state+json": {
        "d1ec1e516e34438bac217e8f44371c71": {
          "model_module": "@jupyter-widgets/controls",
          "model_name": "HBoxModel",
          "model_module_version": "1.5.0",
          "state": {
            "_dom_classes": [],
            "_model_module": "@jupyter-widgets/controls",
            "_model_module_version": "1.5.0",
            "_model_name": "HBoxModel",
            "_view_count": null,
            "_view_module": "@jupyter-widgets/controls",
            "_view_module_version": "1.5.0",
            "_view_name": "HBoxView",
            "box_style": "",
            "children": [
              "IPY_MODEL_2e977e0bbf4b402bbcd4c22a2f232791",
              "IPY_MODEL_d9496763ce21400b9ab68a5986424ab0",
              "IPY_MODEL_828b56b2b1484baf84240f32f0bd8608"
            ],
            "layout": "IPY_MODEL_529e01652ff546b7a11b5382dc1b6429"
          }
        },
        "2e977e0bbf4b402bbcd4c22a2f232791": {
          "model_module": "@jupyter-widgets/controls",
          "model_name": "HTMLModel",
          "model_module_version": "1.5.0",
          "state": {
            "_dom_classes": [],
            "_model_module": "@jupyter-widgets/controls",
            "_model_module_version": "1.5.0",
            "_model_name": "HTMLModel",
            "_view_count": null,
            "_view_module": "@jupyter-widgets/controls",
            "_view_module_version": "1.5.0",
            "_view_name": "HTMLView",
            "description": "",
            "description_tooltip": null,
            "layout": "IPY_MODEL_43d77e54ef954fe4a77164ae659c362c",
            "placeholder": "​",
            "style": "IPY_MODEL_4921fe86695947d7ae48ce998fb8f402",
            "value": "run_evals "
          }
        },
        "d9496763ce21400b9ab68a5986424ab0": {
          "model_module": "@jupyter-widgets/controls",
          "model_name": "FloatProgressModel",
          "model_module_version": "1.5.0",
          "state": {
            "_dom_classes": [],
            "_model_module": "@jupyter-widgets/controls",
            "_model_module_version": "1.5.0",
            "_model_name": "FloatProgressModel",
            "_view_count": null,
            "_view_module": "@jupyter-widgets/controls",
            "_view_module_version": "1.5.0",
            "_view_name": "ProgressView",
            "bar_style": "",
            "description": "",
            "description_tooltip": null,
            "layout": "IPY_MODEL_8a965ea9465b432a832ae77cd6a3b1fc",
            "max": 20,
            "min": 0,
            "orientation": "horizontal",
            "style": "IPY_MODEL_ebbc80e16a3d42ff8e0ed6b2fdaebea3",
            "value": 20
          }
        },
        "828b56b2b1484baf84240f32f0bd8608": {
          "model_module": "@jupyter-widgets/controls",
          "model_name": "HTMLModel",
          "model_module_version": "1.5.0",
          "state": {
            "_dom_classes": [],
            "_model_module": "@jupyter-widgets/controls",
            "_model_module_version": "1.5.0",
            "_model_name": "HTMLModel",
            "_view_count": null,
            "_view_module": "@jupyter-widgets/controls",
            "_view_module_version": "1.5.0",
            "_view_name": "HTMLView",
            "description": "",
            "description_tooltip": null,
            "layout": "IPY_MODEL_efeaf808216943ac81cdccf2e55a79ee",
            "placeholder": "​",
            "style": "IPY_MODEL_795752f5db264cb59d75e304c9319ff1",
            "value": " 20/20 (100.0%) | ⏳ 00:16&lt;00:00 |  1.29it/s"
          }
        },
        "529e01652ff546b7a11b5382dc1b6429": {
          "model_module": "@jupyter-widgets/base",
          "model_name": "LayoutModel",
          "model_module_version": "1.2.0",
          "state": {
            "_model_module": "@jupyter-widgets/base",
            "_model_module_version": "1.2.0",
            "_model_name": "LayoutModel",
            "_view_count": null,
            "_view_module": "@jupyter-widgets/base",
            "_view_module_version": "1.2.0",
            "_view_name": "LayoutView",
            "align_content": null,
            "align_items": null,
            "align_self": null,
            "border": null,
            "bottom": null,
            "display": null,
            "flex": null,
            "flex_flow": null,
            "grid_area": null,
            "grid_auto_columns": null,
            "grid_auto_flow": null,
            "grid_auto_rows": null,
            "grid_column": null,
            "grid_gap": null,
            "grid_row": null,
            "grid_template_areas": null,
            "grid_template_columns": null,
            "grid_template_rows": null,
            "height": null,
            "justify_content": null,
            "justify_items": null,
            "left": null,
            "margin": null,
            "max_height": null,
            "max_width": null,
            "min_height": null,
            "min_width": null,
            "object_fit": null,
            "object_position": null,
            "order": null,
            "overflow": null,
            "overflow_x": null,
            "overflow_y": null,
            "padding": null,
            "right": null,
            "top": null,
            "visibility": null,
            "width": null
          }
        },
        "43d77e54ef954fe4a77164ae659c362c": {
          "model_module": "@jupyter-widgets/base",
          "model_name": "LayoutModel",
          "model_module_version": "1.2.0",
          "state": {
            "_model_module": "@jupyter-widgets/base",
            "_model_module_version": "1.2.0",
            "_model_name": "LayoutModel",
            "_view_count": null,
            "_view_module": "@jupyter-widgets/base",
            "_view_module_version": "1.2.0",
            "_view_name": "LayoutView",
            "align_content": null,
            "align_items": null,
            "align_self": null,
            "border": null,
            "bottom": null,
            "display": null,
            "flex": null,
            "flex_flow": null,
            "grid_area": null,
            "grid_auto_columns": null,
            "grid_auto_flow": null,
            "grid_auto_rows": null,
            "grid_column": null,
            "grid_gap": null,
            "grid_row": null,
            "grid_template_areas": null,
            "grid_template_columns": null,
            "grid_template_rows": null,
            "height": null,
            "justify_content": null,
            "justify_items": null,
            "left": null,
            "margin": null,
            "max_height": null,
            "max_width": null,
            "min_height": null,
            "min_width": null,
            "object_fit": null,
            "object_position": null,
            "order": null,
            "overflow": null,
            "overflow_x": null,
            "overflow_y": null,
            "padding": null,
            "right": null,
            "top": null,
            "visibility": null,
            "width": null
          }
        },
        "4921fe86695947d7ae48ce998fb8f402": {
          "model_module": "@jupyter-widgets/controls",
          "model_name": "DescriptionStyleModel",
          "model_module_version": "1.5.0",
          "state": {
            "_model_module": "@jupyter-widgets/controls",
            "_model_module_version": "1.5.0",
            "_model_name": "DescriptionStyleModel",
            "_view_count": null,
            "_view_module": "@jupyter-widgets/base",
            "_view_module_version": "1.2.0",
            "_view_name": "StyleView",
            "description_width": ""
          }
        },
        "8a965ea9465b432a832ae77cd6a3b1fc": {
          "model_module": "@jupyter-widgets/base",
          "model_name": "LayoutModel",
          "model_module_version": "1.2.0",
          "state": {
            "_model_module": "@jupyter-widgets/base",
            "_model_module_version": "1.2.0",
            "_model_name": "LayoutModel",
            "_view_count": null,
            "_view_module": "@jupyter-widgets/base",
            "_view_module_version": "1.2.0",
            "_view_name": "LayoutView",
            "align_content": null,
            "align_items": null,
            "align_self": null,
            "border": null,
            "bottom": null,
            "display": null,
            "flex": null,
            "flex_flow": null,
            "grid_area": null,
            "grid_auto_columns": null,
            "grid_auto_flow": null,
            "grid_auto_rows": null,
            "grid_column": null,
            "grid_gap": null,
            "grid_row": null,
            "grid_template_areas": null,
            "grid_template_columns": null,
            "grid_template_rows": null,
            "height": null,
            "justify_content": null,
            "justify_items": null,
            "left": null,
            "margin": null,
            "max_height": null,
            "max_width": null,
            "min_height": null,
            "min_width": null,
            "object_fit": null,
            "object_position": null,
            "order": null,
            "overflow": null,
            "overflow_x": null,
            "overflow_y": null,
            "padding": null,
            "right": null,
            "top": null,
            "visibility": null,
            "width": null
          }
        },
        "ebbc80e16a3d42ff8e0ed6b2fdaebea3": {
          "model_module": "@jupyter-widgets/controls",
          "model_name": "ProgressStyleModel",
          "model_module_version": "1.5.0",
          "state": {
            "_model_module": "@jupyter-widgets/controls",
            "_model_module_version": "1.5.0",
            "_model_name": "ProgressStyleModel",
            "_view_count": null,
            "_view_module": "@jupyter-widgets/base",
            "_view_module_version": "1.2.0",
            "_view_name": "StyleView",
            "bar_color": null,
            "description_width": ""
          }
        },
        "efeaf808216943ac81cdccf2e55a79ee": {
          "model_module": "@jupyter-widgets/base",
          "model_name": "LayoutModel",
          "model_module_version": "1.2.0",
          "state": {
            "_model_module": "@jupyter-widgets/base",
            "_model_module_version": "1.2.0",
            "_model_name": "LayoutModel",
            "_view_count": null,
            "_view_module": "@jupyter-widgets/base",
            "_view_module_version": "1.2.0",
            "_view_name": "LayoutView",
            "align_content": null,
            "align_items": null,
            "align_self": null,
            "border": null,
            "bottom": null,
            "display": null,
            "flex": null,
            "flex_flow": null,
            "grid_area": null,
            "grid_auto_columns": null,
            "grid_auto_flow": null,
            "grid_auto_rows": null,
            "grid_column": null,
            "grid_gap": null,
            "grid_row": null,
            "grid_template_areas": null,
            "grid_template_columns": null,
            "grid_template_rows": null,
            "height": null,
            "justify_content": null,
            "justify_items": null,
            "left": null,
            "margin": null,
            "max_height": null,
            "max_width": null,
            "min_height": null,
            "min_width": null,
            "object_fit": null,
            "object_position": null,
            "order": null,
            "overflow": null,
            "overflow_x": null,
            "overflow_y": null,
            "padding": null,
            "right": null,
            "top": null,
            "visibility": null,
            "width": null
          }
        },
        "795752f5db264cb59d75e304c9319ff1": {
          "model_module": "@jupyter-widgets/controls",
          "model_name": "DescriptionStyleModel",
          "model_module_version": "1.5.0",
          "state": {
            "_model_module": "@jupyter-widgets/controls",
            "_model_module_version": "1.5.0",
            "_model_name": "DescriptionStyleModel",
            "_view_count": null,
            "_view_module": "@jupyter-widgets/base",
            "_view_module_version": "1.2.0",
            "_view_name": "StyleView",
            "description_width": ""
          }
        },
        "0ca043a5ae9a4f168008f50202546e73": {
          "model_module": "@jupyter-widgets/controls",
          "model_name": "HBoxModel",
          "model_module_version": "1.5.0",
          "state": {
            "_dom_classes": [],
            "_model_module": "@jupyter-widgets/controls",
            "_model_module_version": "1.5.0",
            "_model_name": "HBoxModel",
            "_view_count": null,
            "_view_module": "@jupyter-widgets/controls",
            "_view_module_version": "1.5.0",
            "_view_name": "HBoxView",
            "box_style": "",
            "children": [
              "IPY_MODEL_2ad9cf5edc9f432e81149a9efefd1007",
              "IPY_MODEL_80571a5239344dc2b29f61b4ccf70b42",
              "IPY_MODEL_385a143f99f44ef3970ac09a20807950"
            ],
            "layout": "IPY_MODEL_ece75a9a196d46c8a6835271b988bafc"
          }
        },
        "2ad9cf5edc9f432e81149a9efefd1007": {
          "model_module": "@jupyter-widgets/controls",
          "model_name": "HTMLModel",
          "model_module_version": "1.5.0",
          "state": {
            "_dom_classes": [],
            "_model_module": "@jupyter-widgets/controls",
            "_model_module_version": "1.5.0",
            "_model_name": "HTMLModel",
            "_view_count": null,
            "_view_module": "@jupyter-widgets/controls",
            "_view_module_version": "1.5.0",
            "_view_name": "HTMLView",
            "description": "",
            "description_tooltip": null,
            "layout": "IPY_MODEL_e04a9ecec1b04ea9afd18511a18c42d6",
            "placeholder": "​",
            "style": "IPY_MODEL_9fdaec62c13341b9b615e855d20da801",
            "value": "run_evals "
          }
        },
        "80571a5239344dc2b29f61b4ccf70b42": {
          "model_module": "@jupyter-widgets/controls",
          "model_name": "FloatProgressModel",
          "model_module_version": "1.5.0",
          "state": {
            "_dom_classes": [],
            "_model_module": "@jupyter-widgets/controls",
            "_model_module_version": "1.5.0",
            "_model_name": "FloatProgressModel",
            "_view_count": null,
            "_view_module": "@jupyter-widgets/controls",
            "_view_module_version": "1.5.0",
            "_view_name": "ProgressView",
            "bar_style": "",
            "description": "",
            "description_tooltip": null,
            "layout": "IPY_MODEL_26a28c9db561433889b4dab643de4bf5",
            "max": 40,
            "min": 0,
            "orientation": "horizontal",
            "style": "IPY_MODEL_175fd72de54a4f6e82547dc8063d3285",
            "value": 40
          }
        },
        "385a143f99f44ef3970ac09a20807950": {
          "model_module": "@jupyter-widgets/controls",
          "model_name": "HTMLModel",
          "model_module_version": "1.5.0",
          "state": {
            "_dom_classes": [],
            "_model_module": "@jupyter-widgets/controls",
            "_model_module_version": "1.5.0",
            "_model_name": "HTMLModel",
            "_view_count": null,
            "_view_module": "@jupyter-widgets/controls",
            "_view_module_version": "1.5.0",
            "_view_name": "HTMLView",
            "description": "",
            "description_tooltip": null,
            "layout": "IPY_MODEL_eebcdb2211b24c5c9d01ce31a3301979",
            "placeholder": "​",
            "style": "IPY_MODEL_734b403bcdd343cd95d4a0e3e297b8e6",
            "value": " 40/40 (100.0%) | ⏳ 00:21&lt;00:00 |  1.20s/it"
          }
        },
        "ece75a9a196d46c8a6835271b988bafc": {
          "model_module": "@jupyter-widgets/base",
          "model_name": "LayoutModel",
          "model_module_version": "1.2.0",
          "state": {
            "_model_module": "@jupyter-widgets/base",
            "_model_module_version": "1.2.0",
            "_model_name": "LayoutModel",
            "_view_count": null,
            "_view_module": "@jupyter-widgets/base",
            "_view_module_version": "1.2.0",
            "_view_name": "LayoutView",
            "align_content": null,
            "align_items": null,
            "align_self": null,
            "border": null,
            "bottom": null,
            "display": null,
            "flex": null,
            "flex_flow": null,
            "grid_area": null,
            "grid_auto_columns": null,
            "grid_auto_flow": null,
            "grid_auto_rows": null,
            "grid_column": null,
            "grid_gap": null,
            "grid_row": null,
            "grid_template_areas": null,
            "grid_template_columns": null,
            "grid_template_rows": null,
            "height": null,
            "justify_content": null,
            "justify_items": null,
            "left": null,
            "margin": null,
            "max_height": null,
            "max_width": null,
            "min_height": null,
            "min_width": null,
            "object_fit": null,
            "object_position": null,
            "order": null,
            "overflow": null,
            "overflow_x": null,
            "overflow_y": null,
            "padding": null,
            "right": null,
            "top": null,
            "visibility": null,
            "width": null
          }
        },
        "e04a9ecec1b04ea9afd18511a18c42d6": {
          "model_module": "@jupyter-widgets/base",
          "model_name": "LayoutModel",
          "model_module_version": "1.2.0",
          "state": {
            "_model_module": "@jupyter-widgets/base",
            "_model_module_version": "1.2.0",
            "_model_name": "LayoutModel",
            "_view_count": null,
            "_view_module": "@jupyter-widgets/base",
            "_view_module_version": "1.2.0",
            "_view_name": "LayoutView",
            "align_content": null,
            "align_items": null,
            "align_self": null,
            "border": null,
            "bottom": null,
            "display": null,
            "flex": null,
            "flex_flow": null,
            "grid_area": null,
            "grid_auto_columns": null,
            "grid_auto_flow": null,
            "grid_auto_rows": null,
            "grid_column": null,
            "grid_gap": null,
            "grid_row": null,
            "grid_template_areas": null,
            "grid_template_columns": null,
            "grid_template_rows": null,
            "height": null,
            "justify_content": null,
            "justify_items": null,
            "left": null,
            "margin": null,
            "max_height": null,
            "max_width": null,
            "min_height": null,
            "min_width": null,
            "object_fit": null,
            "object_position": null,
            "order": null,
            "overflow": null,
            "overflow_x": null,
            "overflow_y": null,
            "padding": null,
            "right": null,
            "top": null,
            "visibility": null,
            "width": null
          }
        },
        "9fdaec62c13341b9b615e855d20da801": {
          "model_module": "@jupyter-widgets/controls",
          "model_name": "DescriptionStyleModel",
          "model_module_version": "1.5.0",
          "state": {
            "_model_module": "@jupyter-widgets/controls",
            "_model_module_version": "1.5.0",
            "_model_name": "DescriptionStyleModel",
            "_view_count": null,
            "_view_module": "@jupyter-widgets/base",
            "_view_module_version": "1.2.0",
            "_view_name": "StyleView",
            "description_width": ""
          }
        },
        "26a28c9db561433889b4dab643de4bf5": {
          "model_module": "@jupyter-widgets/base",
          "model_name": "LayoutModel",
          "model_module_version": "1.2.0",
          "state": {
            "_model_module": "@jupyter-widgets/base",
            "_model_module_version": "1.2.0",
            "_model_name": "LayoutModel",
            "_view_count": null,
            "_view_module": "@jupyter-widgets/base",
            "_view_module_version": "1.2.0",
            "_view_name": "LayoutView",
            "align_content": null,
            "align_items": null,
            "align_self": null,
            "border": null,
            "bottom": null,
            "display": null,
            "flex": null,
            "flex_flow": null,
            "grid_area": null,
            "grid_auto_columns": null,
            "grid_auto_flow": null,
            "grid_auto_rows": null,
            "grid_column": null,
            "grid_gap": null,
            "grid_row": null,
            "grid_template_areas": null,
            "grid_template_columns": null,
            "grid_template_rows": null,
            "height": null,
            "justify_content": null,
            "justify_items": null,
            "left": null,
            "margin": null,
            "max_height": null,
            "max_width": null,
            "min_height": null,
            "min_width": null,
            "object_fit": null,
            "object_position": null,
            "order": null,
            "overflow": null,
            "overflow_x": null,
            "overflow_y": null,
            "padding": null,
            "right": null,
            "top": null,
            "visibility": null,
            "width": null
          }
        },
        "175fd72de54a4f6e82547dc8063d3285": {
          "model_module": "@jupyter-widgets/controls",
          "model_name": "ProgressStyleModel",
          "model_module_version": "1.5.0",
          "state": {
            "_model_module": "@jupyter-widgets/controls",
            "_model_module_version": "1.5.0",
            "_model_name": "ProgressStyleModel",
            "_view_count": null,
            "_view_module": "@jupyter-widgets/base",
            "_view_module_version": "1.2.0",
            "_view_name": "StyleView",
            "bar_color": null,
            "description_width": ""
          }
        },
        "eebcdb2211b24c5c9d01ce31a3301979": {
          "model_module": "@jupyter-widgets/base",
          "model_name": "LayoutModel",
          "model_module_version": "1.2.0",
          "state": {
            "_model_module": "@jupyter-widgets/base",
            "_model_module_version": "1.2.0",
            "_model_name": "LayoutModel",
            "_view_count": null,
            "_view_module": "@jupyter-widgets/base",
            "_view_module_version": "1.2.0",
            "_view_name": "LayoutView",
            "align_content": null,
            "align_items": null,
            "align_self": null,
            "border": null,
            "bottom": null,
            "display": null,
            "flex": null,
            "flex_flow": null,
            "grid_area": null,
            "grid_auto_columns": null,
            "grid_auto_flow": null,
            "grid_auto_rows": null,
            "grid_column": null,
            "grid_gap": null,
            "grid_row": null,
            "grid_template_areas": null,
            "grid_template_columns": null,
            "grid_template_rows": null,
            "height": null,
            "justify_content": null,
            "justify_items": null,
            "left": null,
            "margin": null,
            "max_height": null,
            "max_width": null,
            "min_height": null,
            "min_width": null,
            "object_fit": null,
            "object_position": null,
            "order": null,
            "overflow": null,
            "overflow_x": null,
            "overflow_y": null,
            "padding": null,
            "right": null,
            "top": null,
            "visibility": null,
            "width": null
          }
        },
        "734b403bcdd343cd95d4a0e3e297b8e6": {
          "model_module": "@jupyter-widgets/controls",
          "model_name": "DescriptionStyleModel",
          "model_module_version": "1.5.0",
          "state": {
            "_model_module": "@jupyter-widgets/controls",
            "_model_module_version": "1.5.0",
            "_model_name": "DescriptionStyleModel",
            "_view_count": null,
            "_view_module": "@jupyter-widgets/base",
            "_view_module_version": "1.2.0",
            "_view_name": "StyleView",
            "description_width": ""
          }
        }
      }
    }
  },
  "nbformat": 4,
  "nbformat_minor": 0
}
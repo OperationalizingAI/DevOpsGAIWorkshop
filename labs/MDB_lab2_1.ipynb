{
  "nbformat": 4,
  "nbformat_minor": 0,
  "metadata": {
    "colab": {
      "provenance": []
    },
    "kernelspec": {
      "name": "python3",
      "display_name": "Python 3"
    },
    "language_info": {
      "name": "python"
    }
  },
  "cells": [
    {
      "cell_type": "markdown",
      "source": [
        ">For Googla Colab Only\n",
        "\n",
        ">>git clone https://github.com/OperationalizingAI/Hackathon-2-22-24.giy"
      ],
      "metadata": {
        "id": "FPCoRhb3NMT6"
      }
    },
    {
      "cell_type": "code",
      "execution_count": null,
      "metadata": {
        "id": "sC3_s3N8Fo0F"
      },
      "outputs": [],
      "source": [
        "!pip install google-cloud-secret-manager\n",
        "!pip install --upgrade google-auth\n",
        "!pip install -r requirements.txt"
      ]
    },
    {
      "cell_type": "markdown",
      "source": [
        "### Google Only Code"
      ],
      "metadata": {
        "id": "H9Kyc1Oc4dX4"
      }
    },
    {
      "cell_type": "code",
      "source": [
        "!pip install google-cloud-secret-manager\n",
        "!pip install --upgrade google-auth\n",
        "\n",
        "import os\n",
        "\n",
        "from google.cloud import secretmanager\n",
        "from google.colab import auth\n",
        "from google.colab import drive"
      ],
      "metadata": {
        "id": "pozEcsdxIlxd"
      },
      "execution_count": null,
      "outputs": []
    },
    {
      "cell_type": "code",
      "source": [
        "def load_secrets(secrets_name, project_id):\n",
        "  # Build a client\n",
        "  auth.authenticate_user()\n",
        "  client = secretmanager.SecretManagerServiceClient()\n",
        "  secret_name = secrets_name\n",
        "  # Create path to latest secret\n",
        "  resource_name = f\"projects/{project_id}/secrets/{secret_name}/versions/latest\"\n",
        "  # Get your secret :\n",
        "  response = client.access_secret_version(request={\"name\": resource_name})\n",
        "  secret_string = response.payload.data.decode('UTF-8')\n",
        "  return secret_string"
      ],
      "metadata": {
        "id": "6Z1hF5x_IqlI"
      },
      "execution_count": null,
      "outputs": []
    },
    {
      "cell_type": "code",
      "source": [
        "project_id = 'botchagalupep1'\n",
        "openai_api_key = load_secrets(\"openai_api_key\",project_id)\n",
        "os.environ['OPENAI_API_KEY'] = openai_api_key\n",
        "#MONGODB_ATLAS_CLUSTER_URI = load_secrets(\"mdb_uri\",project_id)\n",
        "MONGODB_ATLAS_CLUSTER_URI = load_secrets(\"MDB_CLUSTER0_URI\",project_id)\n",
        "langsmith_api_key = load_secrets(\"langsmith_api_key\",project_id)\n",
        "#print(langsmith_api_key )\n",
        "#print(MONGODB_ATLAS_CLUSTER_URI)"
      ],
      "metadata": {
        "id": "AxNeNGSqIywX"
      },
      "execution_count": null,
      "outputs": []
    },
    {
      "cell_type": "markdown",
      "source": [
        "Copy OpenAIClient.py into /content/"
      ],
      "metadata": {
        "id": "RU5i85qaUYQ-"
      }
    },
    {
      "cell_type": "code",
      "source": [
        "from OpenAIClient import OpenAIClient\n",
        "\n",
        "openAI_client = OpenAIClient (api_key=openai_api_key)\n",
        "print (\"OpenAI client initialized\")"
      ],
      "metadata": {
        "colab": {
          "base_uri": "https://localhost:8080/"
        },
        "id": "pXtrlxupPfPU",
        "outputId": "dd12a992-c467-4bc8-e626-e836c1fc4549"
      },
      "execution_count": null,
      "outputs": [
        {
          "output_type": "stream",
          "name": "stdout",
          "text": [
            "OpenAI client initialized\n"
          ]
        }
      ]
    },
    {
      "cell_type": "code",
      "source": [
        "import pprint\n",
        "\n",
        "messages=[\n",
        "    {\n",
        "    \"role\": \"user\",\n",
        "    \"content\": \"Say this is a test\",\n",
        "    }\n",
        "]\n",
        "chat_completion = openAI_client.chat(messages=messages)\n",
        "pprint.pprint (chat_completion.model_dump_json(indent=4))"
      ],
      "metadata": {
        "id": "GZk8_XOEUh40"
      },
      "execution_count": null,
      "outputs": []
    },
    {
      "cell_type": "code",
      "source": [
        "word = 'apple'\n",
        "model = 'text-embedding-ada-002'\n",
        "embedding = openAI_client.get_embedding(word, model)\n",
        "print (f\"Embedding for word='{word}' using model='{model}', embeddding_length={len(embedding)}, printing first few numbers... :\\n\", embedding [:10] )"
      ],
      "metadata": {
        "id": "ncApqw9iUvfY"
      },
      "execution_count": null,
      "outputs": []
    },
    {
      "cell_type": "markdown",
      "source": [
        "Visualizing Word Embeddings\n",
        "Here is a nice demo, where you can see how the words are mapped to embeddings\n",
        "\n",
        "https://projector.tensorflow.org/"
      ],
      "metadata": {
        "id": "L6N_ti6sV1SW"
      }
    }
  ]
}
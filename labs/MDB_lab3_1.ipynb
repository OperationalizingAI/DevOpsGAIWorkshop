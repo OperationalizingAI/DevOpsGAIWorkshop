{
  "nbformat": 4,
  "nbformat_minor": 0,
  "metadata": {
    "colab": {
      "provenance": []
    },
    "kernelspec": {
      "name": "python3",
      "display_name": "Python 3"
    },
    "language_info": {
      "name": "python"
    }
  },
  "cells": [
    {
      "cell_type": "markdown",
      "source": [
        "# Using Embeddings\n",
        "## Using LLama Index"
      ],
      "metadata": {
        "id": "1NTjsLMMJl3A"
      }
    },
    {
      "cell_type": "markdown",
      "source": [
        ">For Googla Colab Only\n",
        "\n",
        ">>git clone https://github.com/OperationalizingAI/Hackathon-2-22-24.gi`\n"
      ],
      "metadata": {
        "id": "FPCoRhb3NMT6"
      }
    },
    {
      "cell_type": "code",
      "execution_count": null,
      "metadata": {
        "id": "sC3_s3N8Fo0F"
      },
      "outputs": [],
      "source": [
        "!pip install -r requirements.txt"
      ]
    },
    {
      "cell_type": "markdown",
      "source": [
        "### Google Only Code"
      ],
      "metadata": {
        "id": "RdHGzW3D4oW2"
      }
    },
    {
      "cell_type": "code",
      "source": [
        "!pip install google-cloud-secret-manager\n",
        "!pip install --upgrade google-auth\n",
        "\n",
        "import os\n",
        "\n",
        "from google.cloud import secretmanager\n",
        "from google.colab import auth\n",
        "from google.colab import drive"
      ],
      "metadata": {
        "id": "pozEcsdxIlxd"
      },
      "execution_count": null,
      "outputs": []
    },
    {
      "cell_type": "code",
      "source": [
        "def load_secrets(secrets_name, project_id):\n",
        "  # Build a client\n",
        "  auth.authenticate_user()\n",
        "  client = secretmanager.SecretManagerServiceClient()\n",
        "  secret_name = secrets_name\n",
        "  # Create path to latest secret\n",
        "  resource_name = f\"projects/{project_id}/secrets/{secret_name}/versions/latest\"\n",
        "  # Get your secret :\n",
        "  response = client.access_secret_version(request={\"name\": resource_name})\n",
        "  secret_string = response.payload.data.decode('UTF-8')\n",
        "  return secret_string"
      ],
      "metadata": {
        "id": "6Z1hF5x_IqlI"
      },
      "execution_count": null,
      "outputs": []
    },
    {
      "cell_type": "code",
      "source": [
        "project_id = 'botchagalupep1'\n",
        "openai_api_key = load_secrets(\"openai_api_key\",project_id)\n",
        "os.environ['OPENAI_API_KEY'] = openai_api_key\n",
        "#MONGODB_ATLAS_CLUSTER_URI = load_secrets(\"mdb_uri\",project_id)\n",
        "MONGODB_ATLAS_CLUSTER_URI = load_secrets(\"MDB_CLUSTER0_URI\",project_id)\n",
        "langsmith_api_key = load_secrets(\"langsmith_api_key\",project_id)\n",
        "#print(langsmith_api_key )\n",
        "#print(MONGODB_ATLAS_CLUSTER_URI)"
      ],
      "metadata": {
        "id": "AxNeNGSqIywX"
      },
      "execution_count": null,
      "outputs": []
    },
    {
      "cell_type": "code",
      "source": [
        "# Our variables\n",
        "\n",
        "DB_NAME = 'sample_mflix'\n",
        "COLLECTION_NAME = 'embedded_movies'"
      ],
      "metadata": {
        "id": "6qlYB5MXWPAn"
      },
      "execution_count": null,
      "outputs": []
    },
    {
      "cell_type": "code",
      "source": [
        "from AtlasClient import AtlasClient\n",
        "\n",
        "atlas_client = AtlasClient (MONGODB_ATLAS_CLUSTER_URI, DB_NAME)\n",
        "print(\"Connected to the Mongo Atlas database!\")"
      ],
      "metadata": {
        "colab": {
          "base_uri": "https://localhost:8080/"
        },
        "id": "11tJ-hjWhIqW",
        "outputId": "061ae1e6-1348-45cd-ee6c-08385687e551"
      },
      "execution_count": null,
      "outputs": [
        {
          "output_type": "stream",
          "name": "stdout",
          "text": [
            "Connected to the Mongo Atlas database!\n"
          ]
        }
      ]
    },
    {
      "cell_type": "code",
      "source": [
        "%pip install llama-index-embeddings-huggingface\n",
        "%pip install llama-index-embeddings-instructor"
      ],
      "metadata": {
        "id": "5kMWl_qqWjG0"
      },
      "execution_count": null,
      "outputs": []
    },
    {
      "cell_type": "code",
      "source": [
        "import os\n",
        "## LlamaIndex will download embeddings models as needed.\n",
        "## Set llamaindex cache dir to ./cache dir here (Default is system tmp)\n",
        "## This way, we can easily see downloaded artifacts\n",
        "os.environ['LLAMA_INDEX_CACHE_DIR'] = os.path.join(os.path.abspath(''), '..', 'llama-index-cache')\n",
        "\n",
        "from llama_index.embeddings.huggingface import HuggingFaceEmbedding\n",
        "embed_model = HuggingFaceEmbedding(model_name=\"BAAI/bge-small-en-v1.5\")\n",
        "embeddings = embed_model.get_text_embedding(\"Hello World!\")\n",
        "\n",
        "print(len(embeddings))\n",
        "print(embeddings[:5])"
      ],
      "metadata": {
        "id": "8ViU9jLWToCn"
      },
      "execution_count": null,
      "outputs": []
    },
    {
      "cell_type": "code",
      "source": [
        "embedding_models = [\n",
        "    'BAAI/bge-large-en-v1.5' ,\n",
        "    'BAAI/bge-small-en-v1.5' ,\n",
        "    'sentence-transformers/all-mpnet-base-v2' ,\n",
        "    'sentence-transformers/all-MiniLM-L12-v2' ,\n",
        "    'sentence-transformers/all-MiniLM-L6-v2' ,\n",
        "]\n",
        "\n",
        "import time\n",
        "import timeit\n",
        "\n",
        "for model in embedding_models:\n",
        "    embed_model = HuggingFaceEmbedding(model_name=model)\n",
        "\n",
        "    embeddings = embed_model.get_text_embedding(\"Hello World!\")\n",
        "    print(f'model={model}, embeding_length={len(embeddings):,}')\n",
        "    %timeit (embed_model.get_text_embedding(\"Hello World!\"))\n",
        "    print()"
      ],
      "metadata": {
        "id": "bBJHpqnNVp3W"
      },
      "execution_count": null,
      "outputs": []
    },
    {
      "cell_type": "code",
      "source": [
        "from sentence_transformers import SentenceTransformer\n",
        "#sentences = [\"This is an example sentence\", \"Each sentence is converted\"]\n",
        "\n",
        "model = SentenceTransformer('sentence-transformers/all-MiniLM-L6-v2')\n",
        "# embeddings = model.encode(sentences)\n",
        "embeddings = model.encode('a happy dog!')\n",
        "print(model)\n",
        "print (len(embeddings))\n",
        "print(embeddings[:5])"
      ],
      "metadata": {
        "id": "51-tCCg_VaJK"
      },
      "execution_count": null,
      "outputs": []
    }
  ]
}